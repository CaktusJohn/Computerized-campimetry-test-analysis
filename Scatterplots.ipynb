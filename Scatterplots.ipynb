{
 "cells": [
  {
   "cell_type": "code",
   "execution_count": 72,
   "id": "f6112459",
   "metadata": {},
   "outputs": [],
   "source": [
    "#%matplotlib agg\n",
    "import pandas as pd\n",
    "import seaborn as sns\n",
    "import matplotlib.pyplot as plt\n",
    "import statsmodels.api as sm\n",
    "import numpy as np\n",
    "from pathlib import Path\n"
   ]
  },
  {
   "cell_type": "code",
   "execution_count": 74,
   "id": "e5525432-3ea6-44e0-9eaf-5cea589894bf",
   "metadata": {},
   "outputs": [],
   "source": [
    "export_dir_2 = \"../data_comp-camp/Scatterplots/men_women\"\n",
    "export_dir_1 = \"../data_comp-camp/Scatterplots/ordinary\""
   ]
  },
  {
   "cell_type": "code",
   "execution_count": 76,
   "id": "ba4cf7a3",
   "metadata": {},
   "outputs": [],
   "source": [
    "fig_width = 6.3  \n",
    "fig_height = 3.54  \n",
    "\n",
    "file_path = \"D:/AI/Computerized-campimetry-test-analysis/summary_per_color_group.xlsx\"\n",
    "data = pd.read_excel(file_path)\n",
    "necessary = data.rename(columns=lambda x: x.replace('T258', 'CM')) #замена названий столбцов\n",
    "\n",
    "#columns = [\"CM_dH+_yellow_green_50%\", \"CM_dH+_blue_50%\",\"CM_dH+_purple_50%\",\"CM_dH+_red_50%\"]\n"
   ]
  },
  {
   "cell_type": "markdown",
   "id": "7e57c9db-5b7a-4ad3-962f-d97c1fc61d56",
   "metadata": {},
   "source": [
    "## Построение графиков scatterplot со смещением точек для всех параметров с зависимостью от возраста"
   ]
  },
  {
   "cell_type": "code",
   "execution_count": 82,
   "id": "89904763",
   "metadata": {},
   "outputs": [],
   "source": [
    "def build_age_param_scatterplots(test_data, columns, particular_column, save_fig=False, export_dir = None):\n",
    "            \n",
    "    #color_dict = sns.color_palette(\"bright\", n_colors=4) \n",
    "    if export_dir is not None:\n",
    "        export_dir = Path(export_dir)\n",
    "        export_dir.mkdir(parents=True, exist_ok=True) #Создаёт папку по данному пути, первое создаёт все родительские папки,\n",
    "                                                      #второе не вызовет ошибку если они уже есть\n",
    "        \n",
    "    for i,col in enumerate(columns):\n",
    "        plt.figure(figsize=(fig_width, fig_height), dpi=300)\n",
    "        \n",
    "        upper_border = np.percentile(test_data[col], 99)\n",
    "        low_border = np.percentile(test_data[col], 1)\n",
    "        data = test_data[(test_data[col] <= upper_border) & (test_data[col] >= low_border)]\n",
    "        \n",
    "        sns.scatterplot(data=data, x=particular_column, y=col, color=\"blue\", s=20) #s=50 размер точек до изменения\n",
    "\n",
    "        lowess_res = sm.nonparametric.lowess(exog=data[particular_column], endog=data[col], frac=0.3)#продвинутое сглаживание точек, чем больше frac тем плавнее линия\n",
    "                                                            #(доля точек для сглаживания), возвращает двумерный массив\n",
    "        plt.plot(lowess_res[:, 0], lowess_res[:, 1], linewidth=2, color='black')\n",
    "        \n",
    "        col = col.replace('_', ' ') #изменение названий параметра для графика\n",
    "        if (col == \"CM dH+ yellow green 50%\"):\n",
    "            col = \"CM dH+ yellow-green 50%\"\n",
    "\n",
    "        plt.xlabel('Возраст', fontsize=14, fontweight='light')\n",
    "        plt.ylabel(col, fontsize=14, fontweight='light')\n",
    "        plt.xticks(fontsize=14)  #размер шрифта цифр\n",
    "        plt.yticks(fontsize=14)\n",
    "       \n",
    "    \n",
    "        if save_fig:\n",
    "            \n",
    "            file_name = f'plot_{i}_{col}_vs_{particular_column}.png'\n",
    "            plt.savefig(export_dir / file_name,format='png', bbox_inches='tight', dpi=300)   # объект path и имя файла объединяются в объект path\n"
   ]
  },
  {
   "cell_type": "code",
   "execution_count": 84,
   "id": "1df9adec",
   "metadata": {},
   "outputs": [],
   "source": [
    "columns = necessary.columns[1:-4] #можно обращаться как к списку, save_fig=True, export_dir_1\n",
    "build_age_param_scatterplots(necessary, columns, 'age',  save_fig=True, export_dir = export_dir_1)"
   ]
  },
  {
   "cell_type": "code",
   "execution_count": 58,
   "id": "4588e6f2",
   "metadata": {},
   "outputs": [],
   "source": [
    "def build_age_param_gender_scatterplots(test_data, columns, particular_column, save_fig=False, export_dir = None):\n",
    "    \n",
    "    if export_dir is not None:\n",
    "        export_dir = Path(export_dir)\n",
    "        export_dir.mkdir(parents=True, exist_ok=True) #Создаёт папку по данному пути, первое создаёт все родительские папки,\n",
    "                                                      #второе не вызовет ошибку если они уже есть    \n",
    "        \n",
    "    for i,col in enumerate(columns):\n",
    "        plt.figure(figsize=(fig_width, fig_height), dpi=300)\n",
    "        \n",
    "        upper_border = np.percentile(test_data[col], 99)\n",
    "        low_border = np.percentile(test_data[col], 1)\n",
    "        data = test_data[(test_data[col] <= upper_border) & (test_data[col] >= low_border)]\n",
    "        \n",
    "        mask_men = data[\"sex\"] == 0\n",
    "        mask_women = data[\"sex\"] == 1\n",
    "        \n",
    "        sns.scatterplot(\n",
    "            data=data[mask_men],\n",
    "            x=data[particular_column][mask_men] + np.random.uniform(-0.5, 0.5, size=len(data[mask_men])),\n",
    "            y=col,\n",
    "            color='blue',\n",
    "            s=20,\n",
    "            label=\"Мужчины\") #s=50 размер точек до изменения\n",
    "        \n",
    "        sns.scatterplot(\n",
    "            data=data[mask_women],\n",
    "            x=data[particular_column][mask_women] + np.random.uniform(-0.5, 0.5, size=len(data[mask_women])),\n",
    "            y=col,\n",
    "            color='red',\n",
    "            s=20,\n",
    "            label=\"Женщины\") #s=50 размер точек до изменения\n",
    "        \n",
    "        lowess_res = sm.nonparametric.lowess(exog=data[particular_column], endog=data[col], frac=0.3)#продвинутое сглаживание точек, чем больше frac тем плавнее линия\n",
    "                                                            #(доля точек для сглаживания), возвращает двумерный массив        \n",
    "        plt.plot(lowess_res[:, 0], lowess_res[:, 1], linewidth=2, color='black')\n",
    "        \n",
    "        col = col.replace('_', ' ') #изменение названий параметра для графика\n",
    "        if (col == \"CM dH+ yellow green 50%\"):\n",
    "            col = \"CM dH+ yellow-green 50%\"\n",
    "\n",
    "        plt.xlabel('Возраст', fontsize=14, fontweight='light')\n",
    "        plt.ylabel(col, fontsize=14, fontweight='light')\n",
    "        plt.xticks(fontsize=14)  #размер шрифта цифр\n",
    "        plt.yticks(fontsize=14)\n",
    "        plt.legend(loc='center left', bbox_to_anchor=(1, 0.5))# сдвиг легенды за график\n",
    "        \n",
    "        \n",
    "        if save_fig:\n",
    "            file_name = f'plot_{i}_{col}_vs_{particular_column}.png'\n",
    "            plt.savefig(export_dir / file_name,format='png',  bbox_inches='tight', dpi=300)   # объект path и имя файла объединяются в объект path"
   ]
  },
  {
   "cell_type": "code",
   "execution_count": 60,
   "id": "6e04a9d3",
   "metadata": {},
   "outputs": [],
   "source": [
    "#\n",
    "build_age_param_gender_scatterplots(necessary, columns, 'age', save_fig=True, export_dir = export_dir_2)"
   ]
  },
  {
   "cell_type": "code",
   "execution_count": null,
   "id": "9c569832",
   "metadata": {},
   "outputs": [],
   "source": []
  }
 ],
 "metadata": {
  "kernelspec": {
   "display_name": "Python [conda env:base] *",
   "language": "python",
   "name": "conda-base-py"
  },
  "language_info": {
   "codemirror_mode": {
    "name": "ipython",
    "version": 3
   },
   "file_extension": ".py",
   "mimetype": "text/x-python",
   "name": "python",
   "nbconvert_exporter": "python",
   "pygments_lexer": "ipython3",
   "version": "3.12.7"
  }
 },
 "nbformat": 4,
 "nbformat_minor": 5
}
