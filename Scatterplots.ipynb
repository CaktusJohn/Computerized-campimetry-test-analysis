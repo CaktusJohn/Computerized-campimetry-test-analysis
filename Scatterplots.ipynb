{
 "cells": [
  {
   "cell_type": "code",
   "execution_count": 47,
   "id": "f6112459",
   "metadata": {},
   "outputs": [],
   "source": [
    "%matplotlib agg\n",
    "import pandas as pd\n",
    "import seaborn as sns\n",
    "import matplotlib.pyplot as plt\n",
    "import statsmodels.api as sm\n",
    "import numpy as np\n"
   ]
  },
  {
   "cell_type": "code",
   "execution_count": 10,
   "id": "ba4cf7a3",
   "metadata": {},
   "outputs": [],
   "source": [
    "fig_width = 6.3  \n",
    "fig_height = 3.54  \n",
    "\n",
    "file_path = \"D:/AI/Computerized-campimetry-test-analysis/summary_per_color_group.xlsx\"\n",
    "data = pd.read_excel(file_path)\n",
    "necessary = data.rename(columns=lambda x: x.replace('T258', 'CM')) #замена названий столбцов\n",
    "\n",
    "#columns = [\"CM_dH+_yellow_green_50%\", \"CM_dH+_blue_50%\",\"CM_dH+_purple_50%\",\"CM_dH+_red_50%\"]\n"
   ]
  },
  {
   "cell_type": "code",
   "execution_count": 53,
   "id": "89904763",
   "metadata": {},
   "outputs": [],
   "source": [
    "def build_age_param_scatterplots(test_data, columns, particular_column, save_fig=False):\n",
    "            \n",
    "    #color_dict = sns.color_palette(\"bright\", n_colors=4) \n",
    "    \n",
    "    for i,col in enumerate(columns):\n",
    "        plt.figure(figsize=(fig_width, fig_height), dpi=300)\n",
    "        \n",
    "        upper_border = np.percentile(test_data[col], 99)\n",
    "        data = test_data[test_data[col]<=upper_border]\n",
    "        \n",
    "        sns.scatterplot(data=data, x=particular_column, y=col, color=\"blue\", s=20) #s=50 размер точек до изменения\n",
    "\n",
    "        lowess_res = sm.nonparametric.lowess(exog=data[particular_column], endog=data[col], frac=0.3)#продвинутое сглаживание точек, чем больше frac тем плавнее линия\n",
    "                                                            #(доля точек для сглаживания), возвращает двумерный массив\n",
    "        plt.plot(lowess_res[:, 0], lowess_res[:, 1], linewidth=2, color='black')\n",
    "        \n",
    "        col = col.replace('_', ' ') #изменение названий параметра для графика\n",
    "        if (col == \"CM dH+ yellow green 50%\"):\n",
    "            col = \"CM dH+ yellow-green 50%\"\n",
    "\n",
    "        plt.xlabel('Возраст', fontsize=14, fontweight='light')\n",
    "        plt.ylabel(col, fontsize=14, fontweight='light')\n",
    "        plt.close()\n",
    "    \n",
    "        if save_fig:\n",
    "            plt.savefig(\"scatterplot\")\n",
    "            plt.savefig(f'D:\\\\AI\\\\Computerized-campimetry-test-analysis\\\\Scatterplots\\\\ordinary\\\\plot_{i}_{col}_vs_{particular_column}.png' \n",
    "                        ,format='png', dpi=600)\n"
   ]
  },
  {
   "cell_type": "code",
   "execution_count": 54,
   "id": "1df9adec",
   "metadata": {
    "scrolled": false
   },
   "outputs": [
    {
     "name": "stderr",
     "output_type": "stream",
     "text": [
      "C:\\Users\\kirya\\AppData\\Local\\Temp\\ipykernel_15656\\1171579144.py:6: RuntimeWarning: More than 20 figures have been opened. Figures created through the pyplot interface (`matplotlib.pyplot.figure`) are retained until explicitly closed and may consume too much memory. (To control this warning, see the rcParam `figure.max_open_warning`). Consider using `matplotlib.pyplot.close()`.\n",
      "  plt.figure(figsize=(fig_width, fig_height), dpi=300)\n"
     ]
    }
   ],
   "source": [
    "columns = necessary.columns[1:-4] #можно обращаться как к списку\n",
    "build_age_param_scatterplots(necessary, columns, 'age', save_fig=True)"
   ]
  },
  {
   "cell_type": "code",
   "execution_count": 61,
   "id": "4588e6f2",
   "metadata": {},
   "outputs": [],
   "source": [
    "def build_age_param_gender_scatterplots(test_data, columns, particular_column, save_fig=False):\n",
    "    \n",
    "\n",
    "        \n",
    "    for i,col in enumerate(columns):\n",
    "        plt.figure(figsize=(fig_width, fig_height), dpi=300)\n",
    "        \n",
    "        upper_border = np.percentile(test_data[col], 99)\n",
    "        data = test_data[test_data[col]<=upper_border]\n",
    "        \n",
    "        mask_men = data[\"sex\"] == 0\n",
    "        mask_women = data[\"sex\"] == 1\n",
    "        \n",
    "        sns.scatterplot(\n",
    "            data=data[mask_men],\n",
    "            x=data[particular_column][mask_men] + np.random.uniform(-0.5, 0.5, size=len(data[mask_men])),\n",
    "            y=col,\n",
    "            color='blue',\n",
    "            s=20,\n",
    "            label=\"Мужчины\") #s=50 размер точек до изменения\n",
    "        \n",
    "        sns.scatterplot(\n",
    "            data=data[mask_women],\n",
    "            x=data[particular_column][mask_women] + np.random.uniform(-0.5, 0.5, size=len(data[mask_women])),\n",
    "            y=col,\n",
    "            color='red',\n",
    "            s=20,\n",
    "            label=\"Женщины\") #s=50 размер точек до изменения\n",
    "        \n",
    "        lowess_res = sm.nonparametric.lowess(exog=data[particular_column], endog=data[col], frac=0.3)#продвинутое сглаживание точек, чем больше frac тем плавнее линия\n",
    "                                                            #(доля точек для сглаживания), возвращает двумерный массив        \n",
    "        plt.plot(lowess_res[:, 0], lowess_res[:, 1], linewidth=2, color='black')\n",
    "        \n",
    "        col = col.replace('_', ' ') #изменение названий параметра для графика\n",
    "        if (col == \"CM dH+ yellow green 50%\"):\n",
    "            col = \"CM dH+ yellow-green 50%\"\n",
    "\n",
    "        plt.xlabel('Возраст', fontsize=14, fontweight='light')\n",
    "        plt.ylabel(col, fontsize=14, fontweight='light')\n",
    "        plt.legend(loc='center left', bbox_to_anchor=(1, 0.5))# сдвиг легенды за график\n",
    "        \n",
    "        \n",
    "        if save_fig:\n",
    "            plt.savefig(\"scatterplot\")\n",
    "            plt.savefig(f'D:\\\\AI\\\\Computerized-campimetry-test-analysis\\\\Scatterplots\\\\men_woman\\\\plot_{i}_{col}_vs_{particular_column}.png',\n",
    "                        format='png', dpi=600, bbox_inches='tight')#последнее чтобы легенда не обрезелась"
   ]
  },
  {
   "cell_type": "code",
   "execution_count": 62,
   "id": "6e04a9d3",
   "metadata": {},
   "outputs": [],
   "source": [
    "build_age_param_gender_scatterplots(necessary, columns, 'age', save_fig=True)"
   ]
  },
  {
   "cell_type": "code",
   "execution_count": null,
   "id": "9c569832",
   "metadata": {},
   "outputs": [],
   "source": []
  }
 ],
 "metadata": {
  "kernelspec": {
   "display_name": "Python 3 (ipykernel)",
   "language": "python",
   "name": "python3"
  },
  "language_info": {
   "codemirror_mode": {
    "name": "ipython",
    "version": 3
   },
   "file_extension": ".py",
   "mimetype": "text/x-python",
   "name": "python",
   "nbconvert_exporter": "python",
   "pygments_lexer": "ipython3",
   "version": "3.11.5"
  }
 },
 "nbformat": 4,
 "nbformat_minor": 5
}
