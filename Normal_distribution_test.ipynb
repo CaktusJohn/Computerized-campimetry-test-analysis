{
 "cells": [
  {
   "cell_type": "markdown",
   "id": "ad6e5cb3",
   "metadata": {},
   "source": [
    "# Тест на нормальное распределение"
   ]
  },
  {
   "cell_type": "code",
   "execution_count": 3,
   "id": "5d3a895e",
   "metadata": {},
   "outputs": [],
   "source": [
    "import pandas as pd\n",
    "import scipy.stats as stats\n",
    "import matplotlib.pyplot as plt\n",
    "from itertools import combinations"
   ]
  },
  {
   "cell_type": "code",
   "execution_count": 4,
   "id": "8a1e403b",
   "metadata": {},
   "outputs": [],
   "source": [
    "fig_width = 6.3  \n",
    "fig_height = 3.54  \n",
    "plt.rcParams['figure.figsize'] = (fig_width, fig_height) # установка размеров для всех графиков"
   ]
  },
  {
   "cell_type": "markdown",
   "id": "1a2388dc",
   "metadata": {},
   "source": [
    "Фильтрация данных\n"
   ]
  },
  {
   "cell_type": "code",
   "execution_count": 8,
   "id": "e8e473b0",
   "metadata": {},
   "outputs": [],
   "source": [
    "file_path = \"summary_per_color_group.xlsx\"\n",
    "data = pd.read_excel(file_path)\n",
    "necessary = data.rename(columns=lambda x: x.replace('T258', 'CM')) #замена названий столбцов"
   ]
  },
  {
   "cell_type": "code",
   "execution_count": 14,
   "id": "338a4610",
   "metadata": {},
   "outputs": [
    {
     "data": {
      "text/html": [
       "<div>\n",
       "<style scoped>\n",
       "    .dataframe tbody tr th:only-of-type {\n",
       "        vertical-align: middle;\n",
       "    }\n",
       "\n",
       "    .dataframe tbody tr th {\n",
       "        vertical-align: top;\n",
       "    }\n",
       "\n",
       "    .dataframe thead th {\n",
       "        text-align: right;\n",
       "    }\n",
       "</style>\n",
       "<table border=\"1\" class=\"dataframe\">\n",
       "  <thead>\n",
       "    <tr style=\"text-align: right;\">\n",
       "      <th></th>\n",
       "      <th>CM_dH+_green_50%</th>\n",
       "      <th>CM_dH+_blue_50%</th>\n",
       "      <th>CM_dH+_50%</th>\n",
       "      <th>CM_dH+_red_50%</th>\n",
       "    </tr>\n",
       "  </thead>\n",
       "  <tbody>\n",
       "    <tr>\n",
       "      <th>0</th>\n",
       "      <td>4.0</td>\n",
       "      <td>5.5</td>\n",
       "      <td>5.0</td>\n",
       "      <td>5.0</td>\n",
       "    </tr>\n",
       "    <tr>\n",
       "      <th>1</th>\n",
       "      <td>1.0</td>\n",
       "      <td>1.5</td>\n",
       "      <td>2.0</td>\n",
       "      <td>5.0</td>\n",
       "    </tr>\n",
       "    <tr>\n",
       "      <th>2</th>\n",
       "      <td>1.5</td>\n",
       "      <td>1.5</td>\n",
       "      <td>2.0</td>\n",
       "      <td>6.0</td>\n",
       "    </tr>\n",
       "    <tr>\n",
       "      <th>3</th>\n",
       "      <td>1.5</td>\n",
       "      <td>2.0</td>\n",
       "      <td>2.0</td>\n",
       "      <td>4.0</td>\n",
       "    </tr>\n",
       "    <tr>\n",
       "      <th>4</th>\n",
       "      <td>2.0</td>\n",
       "      <td>2.0</td>\n",
       "      <td>3.0</td>\n",
       "      <td>3.0</td>\n",
       "    </tr>\n",
       "    <tr>\n",
       "      <th>...</th>\n",
       "      <td>...</td>\n",
       "      <td>...</td>\n",
       "      <td>...</td>\n",
       "      <td>...</td>\n",
       "    </tr>\n",
       "    <tr>\n",
       "      <th>4385</th>\n",
       "      <td>4.5</td>\n",
       "      <td>6.5</td>\n",
       "      <td>6.0</td>\n",
       "      <td>8.0</td>\n",
       "    </tr>\n",
       "    <tr>\n",
       "      <th>4386</th>\n",
       "      <td>8.0</td>\n",
       "      <td>10.0</td>\n",
       "      <td>9.0</td>\n",
       "      <td>5.0</td>\n",
       "    </tr>\n",
       "    <tr>\n",
       "      <th>4387</th>\n",
       "      <td>10.0</td>\n",
       "      <td>10.5</td>\n",
       "      <td>12.0</td>\n",
       "      <td>14.0</td>\n",
       "    </tr>\n",
       "    <tr>\n",
       "      <th>4388</th>\n",
       "      <td>7.5</td>\n",
       "      <td>9.5</td>\n",
       "      <td>9.0</td>\n",
       "      <td>9.0</td>\n",
       "    </tr>\n",
       "    <tr>\n",
       "      <th>4389</th>\n",
       "      <td>4.0</td>\n",
       "      <td>5.0</td>\n",
       "      <td>5.0</td>\n",
       "      <td>5.0</td>\n",
       "    </tr>\n",
       "  </tbody>\n",
       "</table>\n",
       "<p>4260 rows × 4 columns</p>\n",
       "</div>"
      ],
      "text/plain": [
       "      CM_dH+_green_50%  CM_dH+_blue_50%  CM_dH+_50%  CM_dH+_red_50%\n",
       "0                  4.0              5.5         5.0             5.0\n",
       "1                  1.0              1.5         2.0             5.0\n",
       "2                  1.5              1.5         2.0             6.0\n",
       "3                  1.5              2.0         2.0             4.0\n",
       "4                  2.0              2.0         3.0             3.0\n",
       "...                ...              ...         ...             ...\n",
       "4385               4.5              6.5         6.0             8.0\n",
       "4386               8.0             10.0         9.0             5.0\n",
       "4387              10.0             10.5        12.0            14.0\n",
       "4388               7.5              9.5         9.0             9.0\n",
       "4389               4.0              5.0         5.0             5.0\n",
       "\n",
       "[4260 rows x 4 columns]"
      ]
     },
     "execution_count": 14,
     "metadata": {},
     "output_type": "execute_result"
    }
   ],
   "source": [
    "test_data = necessary[[\"CM_dH+_green_50%\", \"CM_dH+_blue_50%\",\"CM_dH+_50%\",\"CM_dH+_red_50%\",\"id_test_attempt\"]]\n",
    "test_data = test_data[test_data[\"id_test_attempt\"]==0]\n",
    "test_data = test_data.drop(\"id_test_attempt\", axis=1) #удаление колонки. axis=1 колонки, axis=0 строки\n",
    "\n",
    "test_data"
   ]
  },
  {
   "cell_type": "markdown",
   "id": "7caa224c",
   "metadata": {},
   "source": [
    "## Построение графиков qq plot"
   ]
  },
  {
   "cell_type": "markdown",
   "id": "21a6d25c",
   "metadata": {},
   "source": [
    "Графики, которые помогают визуально оценить, насколько данные соответствуют нормальному распределению.Если данные соответствуют нормальному распределению, точки лягут вдоль прямой."
   ]
  },
  {
   "cell_type": "code",
   "execution_count": 18,
   "id": "5f6e63f5",
   "metadata": {},
   "outputs": [],
   "source": [
    "def build_qq_plots(data):\n",
    "    for column in test_data.columns:\n",
    "        plt.figure(figsize=(fig_width,fig_height), dpi=300)\n",
    "        stats.probplot(data[column], dist=\"norm\", plot=plt) \n",
    "        plt.title(f\"Qq plot для {column}\", fontsize=16, fontweight='light')\n",
    "        plt.xlabel(\"Теоретические квантили\", fontsize=14, fontweight='light')\n",
    "        plt.ylabel(\"Упорядоченные значения\", fontsize=14, fontweight='light')"
   ]
  },
  {
   "cell_type": "markdown",
   "id": "e27b64ee",
   "metadata": {},
   "source": [
    "## Тест Шапиро-Уилка"
   ]
  },
  {
   "cell_type": "markdown",
   "id": "a792992a",
   "metadata": {},
   "source": [
    "Статистический тест, который проверяет, насколько данные соответствуют нормальному распределению. Нулевая гипотеза (H0): данные имеют нормальное распределение. Альтернативная гипотеза (H1): данные не имеют нормального распределения."
   ]
  },
  {
   "cell_type": "code",
   "execution_count": 22,
   "id": "9e6972e9",
   "metadata": {},
   "outputs": [],
   "source": [
    "def shapiro_wilk_test(data):\n",
    "    columns = [\"Столбец\", \"p-value\", \"Результат\"]\n",
    "    result_table = pd.DataFrame(columns = columns)\n",
    "    for i, column in enumerate(data.columns):\n",
    "        _, p_val = stats.shapiro(data[column]) # пропускается stat, где хранятся числа от 0 до 1(0- близко к нормальному, 1- сильное отклонение)\n",
    "        if p_val < 0.05:\n",
    "            status = \"Гипотеза отклонена. Распределение не нормальное\"\n",
    "        else:\n",
    "            status = \"Гипотеза подтверждена. Распределение нормальное\"\n",
    "        result_table.loc[i] = [column, p_val, status]\n",
    "    # Настройка ширины таблицы и вывод на экран\n",
    "    pd.set_option('display.width', 130)\n",
    "    print(result_table)            \n",
    "    "
   ]
  },
  {
   "cell_type": "code",
   "execution_count": 24,
   "id": "5b9c2346",
   "metadata": {},
   "outputs": [
    {
     "name": "stdout",
     "output_type": "stream",
     "text": [
      "            Столбец       p-value                                        Результат\n",
      "0  CM_dH+_green_50%  2.023238e-57  Гипотеза отклонена. Распределение не нормальное\n",
      "1   CM_dH+_blue_50%  5.420849e-63  Гипотеза отклонена. Распределение не нормальное\n",
      "2        CM_dH+_50%  3.023077e-62  Гипотеза отклонена. Распределение не нормальное\n",
      "3    CM_dH+_red_50%  1.069099e-66  Гипотеза отклонена. Распределение не нормальное\n"
     ]
    }
   ],
   "source": [
    "shapiro_wilk_test(test_data)"
   ]
  },
  {
   "cell_type": "markdown",
   "id": "4f07ecfc",
   "metadata": {},
   "source": [
    "## Тест Краскала Уоллиса"
   ]
  },
  {
   "cell_type": "markdown",
   "id": "0b423029",
   "metadata": {},
   "source": [
    "Тест Краскала-Уоллиса — тест для проверки статистических различий между тремя и более независимыми группами. Он является аналогом ANOVA для данных, которые не следуют нормальному распределению. Нулевая гипотеза (H0): все группы имеют одинаковое распределение. Альтернативная гипотеза (H1): хотя бы одна из групп имеет другое распределение."
   ]
  },
  {
   "cell_type": "code",
   "execution_count": 28,
   "id": "b46a59d7",
   "metadata": {},
   "outputs": [],
   "source": [
    "def kruskal_wallis_test(data):\n",
    "    groups = list()\n",
    "    for col in data.columns:\n",
    "        groups.append(data[col])\n",
    "\n",
    "    _, p_val = stats.kruskal(*groups)\n",
    "\n",
    "    print(f\"p-value = {p_val}\")\n",
    "\n",
    "    if p_val < 0.05:\n",
    "        print(\"Гипотеза отклонена. Есть статистические различия между группами\")\n",
    "    else:\n",
    "        print(\"Гипотеза подтверждена. Все группы имеют одинаковое распределение\")"
   ]
  },
  {
   "cell_type": "code",
   "execution_count": 32,
   "id": "66005e65",
   "metadata": {},
   "outputs": [
    {
     "name": "stdout",
     "output_type": "stream",
     "text": [
      "p-value = 1.5979679190398948e-77\n",
      "Гипотеза отклонена. Есть статистические различия между группами\n"
     ]
    }
   ],
   "source": [
    "kruskal_wallis_test(test_data)"
   ]
  },
  {
   "cell_type": "markdown",
   "id": "9db91e01",
   "metadata": {},
   "source": [
    "### Пост-хок анализ\n"
   ]
  },
  {
   "cell_type": "markdown",
   "id": "58527826",
   "metadata": {},
   "source": [
    "Пост-хок анализ включает в себя попарные тесты Манна-Уитни с коррекцией Бонферрони на множественные сравнения, чтобы уменьшить вероятность ошибки первого рода. Тест Манна-Уитни — тест, который используется для сравнения двух независимых выборок, когда предположение о нормальности данных нарушается. Он проверяет, различаются ли медианы двух групп, или, более точно, можно ли сказать, что одна группа имеет систематически большие значения, чем другая. Коррекция Бонферрони — это метод, используемый для уменьшения вероятности ошибки первого рода (то есть, ложного положительного результата) при множественных тестах. \n",
    "Когда проводятся несколько статистических тестов одновременно, вероятность того, что хотя бы один из них покажет ложноположительный результат, увеличивается. Чтобы компенсировать увеличение вероятности ложных срабатываний при множественных тестах, уменьшается пороговое значение (alpha) для каждого теста, деля его на количество проведенных тестов. На практике в силу того, что в статистических пакетах мы работаем с p-value, корректируется именно его значение (умножается p-value каждого теста на количество тестов). Таким образом, мы просто сравниваем уже скорретированное p-value."
   ]
  },
  {
   "cell_type": "code",
   "execution_count": 42,
   "id": "7a67353f",
   "metadata": {},
   "outputs": [],
   "source": [
    "def post_hoc_analysis(data):\n",
    "    col = data.columns #названия\n",
    "    pairs = list(combinations(col, 2)) #генерирует все возможные пары из списка столбцов. список кортежей получится\n",
    "\n",
    "    post_hoc_tab = []\n",
    "\n",
    "    for pair in pairs:\n",
    "        a = data[pair[0]]\n",
    "        b = data[pair[1]]\n",
    "        _,p_val = stats.mannwhitneyu(a,b)   #тест Манна Уитни для 2 групп\n",
    "\n",
    "        post_hoc_tab.append({        #список словарей\n",
    "                'Группа 1': pair[0],\n",
    "                'Группа 2': pair[1],\n",
    "                'p-value': p_val\n",
    "            })\n",
    "\n",
    "    post_hoc_df = pd.DataFrame(post_hoc_tab)\n",
    "    post_hoc_df[\"p-value после коррекции\"] = post_hoc_df[\"p-value\"] * len(pairs) #коррекция Бонферрони (умножение на количество экспериментов)\n",
    "\n",
    "    post_hoc_df['Результат'] = post_hoc_df['p-value после коррекции'].apply(\n",
    "        lambda x: \"Гипотеза отклонена. Различия есть\" if x < 0.05 else \"Нет доказательств различий в распределениях\")\n",
    "\n",
    "    print(post_hoc_df)"
   ]
  },
  {
   "cell_type": "code",
   "execution_count": 44,
   "id": "e26d177d",
   "metadata": {},
   "outputs": [
    {
     "name": "stdout",
     "output_type": "stream",
     "text": [
      "           Группа 1         Группа 2       p-value  p-value после коррекции                                    Результат\n",
      "0  CM_dH+_green_50%  CM_dH+_blue_50%  4.144412e-29             2.486647e-28            Гипотеза отклонена. Различия есть\n",
      "1  CM_dH+_green_50%       CM_dH+_50%  4.683013e-31             2.809808e-30            Гипотеза отклонена. Различия есть\n",
      "2  CM_dH+_green_50%   CM_dH+_red_50%  5.234833e-77             3.140900e-76            Гипотеза отклонена. Различия есть\n",
      "3   CM_dH+_blue_50%       CM_dH+_50%  9.747189e-01             5.848314e+00  Нет доказательств различий в распределениях\n",
      "4   CM_dH+_blue_50%   CM_dH+_red_50%  1.217772e-13             7.306630e-13            Гипотеза отклонена. Различия есть\n",
      "5        CM_dH+_50%   CM_dH+_red_50%  2.161824e-14             1.297094e-13            Гипотеза отклонена. Различия есть\n"
     ]
    }
   ],
   "source": [
    "post_hoc_analysis(test_data)"
   ]
  },
  {
   "cell_type": "markdown",
   "id": "2ef8d7fa",
   "metadata": {},
   "source": [
    "Функция для реализации тестов"
   ]
  },
  {
   "cell_type": "code",
   "execution_count": 46,
   "id": "ecb6eace",
   "metadata": {},
   "outputs": [],
   "source": [
    "def stat_test (test, data, stat_tests_dict):\n",
    "    if test in stat_tests_dict:\n",
    "        stat_tests_dict[test](data)\n",
    "    else:\n",
    "        raise ValueError(f\"Тест не найден. Доступные тесты: {stat_test_dict.keys()}\")\n",
    "    \n",
    "   "
   ]
  },
  {
   "cell_type": "code",
   "execution_count": 56,
   "id": "fdbbf672",
   "metadata": {},
   "outputs": [
    {
     "name": "stdout",
     "output_type": "stream",
     "text": [
      "           Группа 1         Группа 2       p-value  p-value после коррекции                                    Результат\n",
      "0  CM_dH+_green_50%  CM_dH+_blue_50%  4.144412e-29             2.486647e-28            Гипотеза отклонена. Различия есть\n",
      "1  CM_dH+_green_50%       CM_dH+_50%  4.683013e-31             2.809808e-30            Гипотеза отклонена. Различия есть\n",
      "2  CM_dH+_green_50%   CM_dH+_red_50%  5.234833e-77             3.140900e-76            Гипотеза отклонена. Различия есть\n",
      "3   CM_dH+_blue_50%       CM_dH+_50%  9.747189e-01             5.848314e+00  Нет доказательств различий в распределениях\n",
      "4   CM_dH+_blue_50%   CM_dH+_red_50%  1.217772e-13             7.306630e-13            Гипотеза отклонена. Различия есть\n",
      "5        CM_dH+_50%   CM_dH+_red_50%  2.161824e-14             1.297094e-13            Гипотеза отклонена. Различия есть\n"
     ]
    }
   ],
   "source": [
    " stat_tests_dict = {\n",
    "                \"post_hoc_analysis\" : post_hoc_analysis,\n",
    "                \"kruskal_wallis_test\" : kruskal_wallis_test,\n",
    "                \"shapiro_wilk_test\" : shapiro_wilk_test\n",
    "                 }\n",
    "stat_test(\"post_hoc_analysis\", test_data, stat_tests_dict)\n",
    "     "
   ]
  },
  {
   "cell_type": "code",
   "execution_count": null,
   "id": "0f0d7279",
   "metadata": {},
   "outputs": [],
   "source": []
  }
 ],
 "metadata": {
  "kernelspec": {
   "display_name": "Python [conda env:base] *",
   "language": "python",
   "name": "conda-base-py"
  },
  "language_info": {
   "codemirror_mode": {
    "name": "ipython",
    "version": 3
   },
   "file_extension": ".py",
   "mimetype": "text/x-python",
   "name": "python",
   "nbconvert_exporter": "python",
   "pygments_lexer": "ipython3",
   "version": "3.12.7"
  }
 },
 "nbformat": 4,
 "nbformat_minor": 5
}
