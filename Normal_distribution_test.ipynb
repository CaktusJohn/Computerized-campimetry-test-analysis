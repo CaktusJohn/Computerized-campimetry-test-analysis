{
 "cells": [
  {
   "cell_type": "markdown",
   "id": "ad6e5cb3",
   "metadata": {},
   "source": [
    "# Тест на нормальное распределение"
   ]
  },
  {
   "cell_type": "code",
   "execution_count": 2,
   "id": "5d3a895e",
   "metadata": {},
   "outputs": [],
   "source": [
    "import pandas as pd\n",
    "import scipy.stats as stats\n",
    "import matplotlib.pyplot as plt\n",
    "from itertools import combinations"
   ]
  },
  {
   "cell_type": "code",
   "execution_count": 3,
   "id": "8a1e403b",
   "metadata": {},
   "outputs": [],
   "source": [
    "fig_width = 6.3  \n",
    "fig_height = 3.54  \n",
    "plt.rcParams['figure.figsize'] = (fig_width, fig_height) # установка размеров для всех графиков"
   ]
  },
  {
   "cell_type": "markdown",
   "id": "1a2388dc",
   "metadata": {},
   "source": [
    "Фильтрация данных\n"
   ]
  },
  {
   "cell_type": "code",
   "execution_count": 4,
   "id": "e8e473b0",
   "metadata": {},
   "outputs": [],
   "source": [
    "file_path = \"D:/AI/Computerized-campimetry-test-analysis/summary_per_color_group.xlsx\"\n",
    "data = pd.read_excel(file_path)\n",
    "necessary = data[data[\"id_test_attempt\"]==0]\n",
    "test_data = necessary.rename(columns=lambda x: x.replace('T258', 'CM')) #замена названий столбцов"
   ]
  },
  {
   "cell_type": "code",
   "execution_count": 5,
   "id": "e177ca5c",
   "metadata": {},
   "outputs": [
    {
     "data": {
      "text/html": [
       "<div>\n",
       "<style scoped>\n",
       "    .dataframe tbody tr th:only-of-type {\n",
       "        vertical-align: middle;\n",
       "    }\n",
       "\n",
       "    .dataframe tbody tr th {\n",
       "        vertical-align: top;\n",
       "    }\n",
       "\n",
       "    .dataframe thead th {\n",
       "        text-align: right;\n",
       "    }\n",
       "</style>\n",
       "<table border=\"1\" class=\"dataframe\">\n",
       "  <thead>\n",
       "    <tr style=\"text-align: right;\">\n",
       "      <th></th>\n",
       "      <th>Unnamed: 0</th>\n",
       "      <th>T258_dH+_red_mean</th>\n",
       "      <th>T258_dH+_red_std</th>\n",
       "      <th>T258_dH+_red_min</th>\n",
       "      <th>T258_dH+_red_25%</th>\n",
       "      <th>T258_dH+_red_50%</th>\n",
       "      <th>T258_dH+_red_75%</th>\n",
       "      <th>T258_dH+_red_max</th>\n",
       "      <th>T258_dH+_yellow_green_mean</th>\n",
       "      <th>T258_dH+_yellow_green_std</th>\n",
       "      <th>...</th>\n",
       "      <th>T278_SMR_diff_25%</th>\n",
       "      <th>T278_SMR_diff_50%</th>\n",
       "      <th>T278_SMR_diff_75%</th>\n",
       "      <th>T278_SMR_diff_max</th>\n",
       "      <th>T278_SMR_corr</th>\n",
       "      <th>T278_SMR_tau</th>\n",
       "      <th>id_test_attempt</th>\n",
       "      <th>id_sample</th>\n",
       "      <th>age</th>\n",
       "      <th>sex</th>\n",
       "    </tr>\n",
       "  </thead>\n",
       "  <tbody>\n",
       "    <tr>\n",
       "      <th>0</th>\n",
       "      <td>61005</td>\n",
       "      <td>2.75</td>\n",
       "      <td>1.500000</td>\n",
       "      <td>1</td>\n",
       "      <td>1.75</td>\n",
       "      <td>3.0</td>\n",
       "      <td>4.00</td>\n",
       "      <td>4</td>\n",
       "      <td>1.00</td>\n",
       "      <td>0.816497</td>\n",
       "      <td>...</td>\n",
       "      <td>-0.111650</td>\n",
       "      <td>-0.003722</td>\n",
       "      <td>0.110599</td>\n",
       "      <td>0.298893</td>\n",
       "      <td>-0.348606</td>\n",
       "      <td>-0.231483</td>\n",
       "      <td>0</td>\n",
       "      <td>0</td>\n",
       "      <td>20.010959</td>\n",
       "      <td>1</td>\n",
       "    </tr>\n",
       "    <tr>\n",
       "      <th>1</th>\n",
       "      <td>47000</td>\n",
       "      <td>2.25</td>\n",
       "      <td>0.957427</td>\n",
       "      <td>1</td>\n",
       "      <td>1.75</td>\n",
       "      <td>2.5</td>\n",
       "      <td>3.00</td>\n",
       "      <td>3</td>\n",
       "      <td>0.75</td>\n",
       "      <td>0.500000</td>\n",
       "      <td>...</td>\n",
       "      <td>-0.051903</td>\n",
       "      <td>0.048618</td>\n",
       "      <td>0.063985</td>\n",
       "      <td>0.219723</td>\n",
       "      <td>0.102884</td>\n",
       "      <td>0.066421</td>\n",
       "      <td>0</td>\n",
       "      <td>1</td>\n",
       "      <td>20.013699</td>\n",
       "      <td>0</td>\n",
       "    </tr>\n",
       "    <tr>\n",
       "      <th>2</th>\n",
       "      <td>47466</td>\n",
       "      <td>1.75</td>\n",
       "      <td>0.957427</td>\n",
       "      <td>1</td>\n",
       "      <td>1.00</td>\n",
       "      <td>1.5</td>\n",
       "      <td>2.25</td>\n",
       "      <td>3</td>\n",
       "      <td>0.50</td>\n",
       "      <td>0.577350</td>\n",
       "      <td>...</td>\n",
       "      <td>-0.064603</td>\n",
       "      <td>-0.051664</td>\n",
       "      <td>0.073810</td>\n",
       "      <td>0.274372</td>\n",
       "      <td>-0.202019</td>\n",
       "      <td>-0.016667</td>\n",
       "      <td>0</td>\n",
       "      <td>2</td>\n",
       "      <td>20.112329</td>\n",
       "      <td>0</td>\n",
       "    </tr>\n",
       "    <tr>\n",
       "      <th>3</th>\n",
       "      <td>59980</td>\n",
       "      <td>2.00</td>\n",
       "      <td>0.816497</td>\n",
       "      <td>1</td>\n",
       "      <td>1.75</td>\n",
       "      <td>2.0</td>\n",
       "      <td>2.25</td>\n",
       "      <td>3</td>\n",
       "      <td>0.75</td>\n",
       "      <td>0.500000</td>\n",
       "      <td>...</td>\n",
       "      <td>-0.055315</td>\n",
       "      <td>-0.027076</td>\n",
       "      <td>0.070588</td>\n",
       "      <td>0.181467</td>\n",
       "      <td>0.019172</td>\n",
       "      <td>-0.049460</td>\n",
       "      <td>0</td>\n",
       "      <td>3</td>\n",
       "      <td>20.158904</td>\n",
       "      <td>0</td>\n",
       "    </tr>\n",
       "    <tr>\n",
       "      <th>4</th>\n",
       "      <td>47927</td>\n",
       "      <td>2.00</td>\n",
       "      <td>0.816497</td>\n",
       "      <td>1</td>\n",
       "      <td>1.75</td>\n",
       "      <td>2.0</td>\n",
       "      <td>2.25</td>\n",
       "      <td>3</td>\n",
       "      <td>0.25</td>\n",
       "      <td>0.500000</td>\n",
       "      <td>...</td>\n",
       "      <td>-0.129545</td>\n",
       "      <td>0.003198</td>\n",
       "      <td>0.072435</td>\n",
       "      <td>0.324830</td>\n",
       "      <td>-0.149060</td>\n",
       "      <td>-0.191063</td>\n",
       "      <td>1</td>\n",
       "      <td>4</td>\n",
       "      <td>20.158904</td>\n",
       "      <td>0</td>\n",
       "    </tr>\n",
       "  </tbody>\n",
       "</table>\n",
       "<p>5 rows × 362 columns</p>\n",
       "</div>"
      ],
      "text/plain": [
       "   Unnamed: 0  T258_dH+_red_mean  T258_dH+_red_std  T258_dH+_red_min  \\\n",
       "0       61005               2.75          1.500000                 1   \n",
       "1       47000               2.25          0.957427                 1   \n",
       "2       47466               1.75          0.957427                 1   \n",
       "3       59980               2.00          0.816497                 1   \n",
       "4       47927               2.00          0.816497                 1   \n",
       "\n",
       "   T258_dH+_red_25%  T258_dH+_red_50%  T258_dH+_red_75%  T258_dH+_red_max  \\\n",
       "0              1.75               3.0              4.00                 4   \n",
       "1              1.75               2.5              3.00                 3   \n",
       "2              1.00               1.5              2.25                 3   \n",
       "3              1.75               2.0              2.25                 3   \n",
       "4              1.75               2.0              2.25                 3   \n",
       "\n",
       "   T258_dH+_yellow_green_mean  T258_dH+_yellow_green_std  ...  \\\n",
       "0                        1.00                   0.816497  ...   \n",
       "1                        0.75                   0.500000  ...   \n",
       "2                        0.50                   0.577350  ...   \n",
       "3                        0.75                   0.500000  ...   \n",
       "4                        0.25                   0.500000  ...   \n",
       "\n",
       "   T278_SMR_diff_25%  T278_SMR_diff_50%  T278_SMR_diff_75%  T278_SMR_diff_max  \\\n",
       "0          -0.111650          -0.003722           0.110599           0.298893   \n",
       "1          -0.051903           0.048618           0.063985           0.219723   \n",
       "2          -0.064603          -0.051664           0.073810           0.274372   \n",
       "3          -0.055315          -0.027076           0.070588           0.181467   \n",
       "4          -0.129545           0.003198           0.072435           0.324830   \n",
       "\n",
       "   T278_SMR_corr  T278_SMR_tau  id_test_attempt  id_sample        age  sex  \n",
       "0      -0.348606     -0.231483                0          0  20.010959    1  \n",
       "1       0.102884      0.066421                0          1  20.013699    0  \n",
       "2      -0.202019     -0.016667                0          2  20.112329    0  \n",
       "3       0.019172     -0.049460                0          3  20.158904    0  \n",
       "4      -0.149060     -0.191063                1          4  20.158904    0  \n",
       "\n",
       "[5 rows x 362 columns]"
      ]
     },
     "execution_count": 5,
     "metadata": {},
     "output_type": "execute_result"
    }
   ],
   "source": [
    "data.head()"
   ]
  },
  {
   "cell_type": "code",
   "execution_count": 6,
   "id": "338a4610",
   "metadata": {},
   "outputs": [
    {
     "data": {
      "text/html": [
       "<div>\n",
       "<style scoped>\n",
       "    .dataframe tbody tr th:only-of-type {\n",
       "        vertical-align: middle;\n",
       "    }\n",
       "\n",
       "    .dataframe tbody tr th {\n",
       "        vertical-align: top;\n",
       "    }\n",
       "\n",
       "    .dataframe thead th {\n",
       "        text-align: right;\n",
       "    }\n",
       "</style>\n",
       "<table border=\"1\" class=\"dataframe\">\n",
       "  <thead>\n",
       "    <tr style=\"text-align: right;\">\n",
       "      <th></th>\n",
       "      <th>CM_dH+_yellow_green_50%</th>\n",
       "      <th>CM_dH+_blue_50%</th>\n",
       "      <th>CM_dH+_purple_50%</th>\n",
       "      <th>CM_dH+_red_50%</th>\n",
       "    </tr>\n",
       "  </thead>\n",
       "  <tbody>\n",
       "    <tr>\n",
       "      <th>0</th>\n",
       "      <td>1.0</td>\n",
       "      <td>4457.5</td>\n",
       "      <td>4610.0</td>\n",
       "      <td>3.0</td>\n",
       "    </tr>\n",
       "    <tr>\n",
       "      <th>1</th>\n",
       "      <td>1.0</td>\n",
       "      <td>4519.0</td>\n",
       "      <td>9925.5</td>\n",
       "      <td>2.5</td>\n",
       "    </tr>\n",
       "    <tr>\n",
       "      <th>2</th>\n",
       "      <td>0.5</td>\n",
       "      <td>9886.5</td>\n",
       "      <td>6593.0</td>\n",
       "      <td>1.5</td>\n",
       "    </tr>\n",
       "    <tr>\n",
       "      <th>3</th>\n",
       "      <td>1.0</td>\n",
       "      <td>3710.0</td>\n",
       "      <td>4141.0</td>\n",
       "      <td>2.0</td>\n",
       "    </tr>\n",
       "    <tr>\n",
       "      <th>6</th>\n",
       "      <td>0.0</td>\n",
       "      <td>8748.5</td>\n",
       "      <td>7961.5</td>\n",
       "      <td>3.0</td>\n",
       "    </tr>\n",
       "    <tr>\n",
       "      <th>...</th>\n",
       "      <td>...</td>\n",
       "      <td>...</td>\n",
       "      <td>...</td>\n",
       "      <td>...</td>\n",
       "    </tr>\n",
       "    <tr>\n",
       "      <th>2988</th>\n",
       "      <td>10.0</td>\n",
       "      <td>16521.0</td>\n",
       "      <td>2616.5</td>\n",
       "      <td>7.5</td>\n",
       "    </tr>\n",
       "    <tr>\n",
       "      <th>2989</th>\n",
       "      <td>5.5</td>\n",
       "      <td>11435.0</td>\n",
       "      <td>9460.5</td>\n",
       "      <td>7.5</td>\n",
       "    </tr>\n",
       "    <tr>\n",
       "      <th>2990</th>\n",
       "      <td>6.5</td>\n",
       "      <td>29358.5</td>\n",
       "      <td>16345.5</td>\n",
       "      <td>10.0</td>\n",
       "    </tr>\n",
       "    <tr>\n",
       "      <th>2991</th>\n",
       "      <td>3.5</td>\n",
       "      <td>15058.5</td>\n",
       "      <td>9581.5</td>\n",
       "      <td>13.0</td>\n",
       "    </tr>\n",
       "    <tr>\n",
       "      <th>2992</th>\n",
       "      <td>1.0</td>\n",
       "      <td>12289.0</td>\n",
       "      <td>14578.5</td>\n",
       "      <td>4.5</td>\n",
       "    </tr>\n",
       "  </tbody>\n",
       "</table>\n",
       "<p>2811 rows × 4 columns</p>\n",
       "</div>"
      ],
      "text/plain": [
       "      CM_dH+_yellow_green_50%  CM_dH+_blue_50%  CM_dH+_purple_50%  \\\n",
       "0                         1.0           4457.5             4610.0   \n",
       "1                         1.0           4519.0             9925.5   \n",
       "2                         0.5           9886.5             6593.0   \n",
       "3                         1.0           3710.0             4141.0   \n",
       "6                         0.0           8748.5             7961.5   \n",
       "...                       ...              ...                ...   \n",
       "2988                     10.0          16521.0             2616.5   \n",
       "2989                      5.5          11435.0             9460.5   \n",
       "2990                      6.5          29358.5            16345.5   \n",
       "2991                      3.5          15058.5             9581.5   \n",
       "2992                      1.0          12289.0            14578.5   \n",
       "\n",
       "      CM_dH+_red_50%  \n",
       "0                3.0  \n",
       "1                2.5  \n",
       "2                1.5  \n",
       "3                2.0  \n",
       "6                3.0  \n",
       "...              ...  \n",
       "2988             7.5  \n",
       "2989             7.5  \n",
       "2990            10.0  \n",
       "2991            13.0  \n",
       "2992             4.5  \n",
       "\n",
       "[2811 rows x 4 columns]"
      ]
     },
     "execution_count": 6,
     "metadata": {},
     "output_type": "execute_result"
    }
   ],
   "source": [
    "test_data = test_data[[\"CM_dH+_yellow_green_50%\", \"CM_dH+_blue_50%\",\"CM_dH+_purple_50%\",\"CM_dH+_red_50%\"]]\n",
    "test_data.to_csv(\"test_data.csv\",index = False) #сохранение для другого ноутбука\n",
    "test_data"
   ]
  },
  {
   "cell_type": "markdown",
   "id": "7caa224c",
   "metadata": {},
   "source": [
    "## Построение графиков qq plot"
   ]
  },
  {
   "cell_type": "markdown",
   "id": "21a6d25c",
   "metadata": {},
   "source": [
    "Графики, которые помогают визуально оценить, насколько данные соответствуют нормальному распределению.Если данные соответствуют нормальному распределению, точки лягут вдоль прямой."
   ]
  },
  {
   "cell_type": "code",
   "execution_count": 15,
   "id": "5f6e63f5",
   "metadata": {},
   "outputs": [],
   "source": [
    "def build_qq_plots(data):\n",
    "    for column in test_data.columns:\n",
    "        plt.figure(figsize=(fig_width,fig_height), dpi=300)\n",
    "        stats.probplot(data[column], dist=\"norm\", plot=plt) \n",
    "        plt.title(f\"Qq plot для {column}\", fontsize=16, fontweight='light')\n",
    "        plt.xlabel(\"Теоретические квантили\", fontsize=14, fontweight='light')\n",
    "        plt.ylabel(\"Упорядоченные значения\", fontsize=14, fontweight='light')"
   ]
  },
  {
   "cell_type": "markdown",
   "id": "e27b64ee",
   "metadata": {},
   "source": [
    "## Тест Шапиро-Уилка"
   ]
  },
  {
   "cell_type": "markdown",
   "id": "a792992a",
   "metadata": {},
   "source": [
    "Статистический тест, который проверяет, насколько данные соответствуют нормальному распределению. Нулевая гипотеза (H0): данные имеют нормальное распределение. Альтернативная гипотеза (H1): данные не имеют нормального распределения."
   ]
  },
  {
   "cell_type": "code",
   "execution_count": 18,
   "id": "9e6972e9",
   "metadata": {},
   "outputs": [],
   "source": [
    "def shapiro_wilk_test(data):\n",
    "    columns = [\"Столбец\", \"p-value\", \"Результат\"]\n",
    "    result_table = pd.DataFrame(columns = columns)\n",
    "    for i, column in enumerate(data.columns):\n",
    "        _, p_val = stats.shapiro(data[column]) # пропускается stat, где хранятся числа от 0 до 1(0- близко к нормальному, 1- сильное отклонение)\n",
    "        if p_val < 0.05:\n",
    "            status = \"Гипотеза отклонена. Распределение не нормальное\"\n",
    "        else:\n",
    "            status = \"Гипотеза подтверждена. Распределение нормальное\"\n",
    "        result_table.loc[i] = [column, p_val, status]\n",
    "    # Настройка ширины таблицы и вывод на экран\n",
    "    pd.set_option('display.width', 130)\n",
    "    print(result_table)            \n",
    "    "
   ]
  },
  {
   "cell_type": "code",
   "execution_count": 19,
   "id": "5b9c2346",
   "metadata": {},
   "outputs": [
    {
     "name": "stdout",
     "output_type": "stream",
     "text": [
      "                   Столбец       p-value                                        Результат\n",
      "0  CM_dH+_yellow_green_50%  0.000000e+00  Гипотеза отклонена. Распределение не нормальное\n",
      "1          CM_dH+_blue_50%  0.000000e+00  Гипотеза отклонена. Распределение не нормальное\n",
      "2        CM_dH+_purple_50%  7.526754e-29  Гипотеза отклонена. Распределение не нормальное\n",
      "3           CM_dH+_red_50%  0.000000e+00  Гипотеза отклонена. Распределение не нормальное\n"
     ]
    }
   ],
   "source": [
    "shapiro_wilk_test(test_data)"
   ]
  },
  {
   "cell_type": "markdown",
   "id": "4f07ecfc",
   "metadata": {},
   "source": [
    "## Тест Краскала Уоллиса"
   ]
  },
  {
   "cell_type": "markdown",
   "id": "0b423029",
   "metadata": {},
   "source": [
    "Тест Краскала-Уоллиса — тест для проверки статистических различий между тремя и более независимыми группами. Он является аналогом ANOVA для данных, которые не следуют нормальному распределению. Нулевая гипотеза (H0): все группы имеют одинаковое распределение. Альтернативная гипотеза (H1): хотя бы одна из групп имеет другое распределение."
   ]
  },
  {
   "cell_type": "code",
   "execution_count": 8,
   "id": "b46a59d7",
   "metadata": {},
   "outputs": [],
   "source": [
    "def kruskal_wallis_test_for_4_groups(data):\n",
    "    groups = list()\n",
    "    for col in data.columns:\n",
    "        groups.append(data[col])\n",
    "\n",
    "    _, p_val = stats.kruskal(*groups)\n",
    "\n",
    "    print(f\"p-value = {p_val}\")\n",
    "\n",
    "    if p_val < 0.05:\n",
    "        print(\"Гипотеза отклонена. Есть статистические различия между группами\")\n",
    "    else:\n",
    "        print(\"Гипотеза подтверждена. Все группы имеют одинаковое распределение\")"
   ]
  },
  {
   "cell_type": "code",
   "execution_count": 9,
   "id": "66005e65",
   "metadata": {},
   "outputs": [
    {
     "name": "stdout",
     "output_type": "stream",
     "text": [
      "p-value = 0.0\n",
      "Гипотеза отклонена. Есть статистические различия между группами\n"
     ]
    }
   ],
   "source": [
    "kruskal_wallis_test_for_4_groups(test_data)"
   ]
  },
  {
   "cell_type": "markdown",
   "id": "9db91e01",
   "metadata": {},
   "source": [
    "### Пост-хок анализ\n"
   ]
  },
  {
   "cell_type": "markdown",
   "id": "58527826",
   "metadata": {},
   "source": [
    "Пост-хок анализ включает в себя попарные тесты Манна-Уитни с коррекцией Бонферрони на множественные сравнения, чтобы уменьшить вероятность ошибки первого рода. Тест Манна-Уитни — тест, который используется для сравнения двух независимых выборок, когда предположение о нормальности данных нарушается. Он проверяет, различаются ли медианы двух групп, или, более точно, можно ли сказать, что одна группа имеет систематически большие значения, чем другая. Коррекция Бонферрони — это метод, используемый для уменьшения вероятности ошибки первого рода (то есть, ложного положительного результата) при множественных тестах. \n",
    "Когда проводятся несколько статистических тестов одновременно, вероятность того, что хотя бы один из них покажет ложноположительный результат, увеличивается. Чтобы компенсировать увеличение вероятности ложных срабатываний при множественных тестах, уменьшается пороговое значение (alpha) для каждого теста, деля его на количество проведенных тестов. На практике в силу того, что в статистических пакетах мы работаем с p-value, корректируется именно его значение (умножается p-value каждого теста на количество тестов). Таким образом, мы просто сравниваем уже скорретированное p-value."
   ]
  },
  {
   "cell_type": "code",
   "execution_count": 25,
   "id": "7a67353f",
   "metadata": {},
   "outputs": [],
   "source": [
    "def post_hoc_analysis(data):\n",
    "    col = data.columns #названия\n",
    "    pairs = list(combinations(col, 2)) #генерирует все возможные пары из списка столбцов. список кортежей получится\n",
    "\n",
    "    post_hoc_tab = []\n",
    "\n",
    "    for pair in pairs:\n",
    "        a = data[pair[0]]\n",
    "        b = data[pair[1]]\n",
    "        _,p_val = stats.mannwhitneyu(a,b)   #тест Манна Уитни для 2 групп\n",
    "\n",
    "        post_hoc_tab.append({        #список словарей\n",
    "                'Группа 1': pair[0],\n",
    "                'Группа 2': pair[1],\n",
    "                'p-value': p_val\n",
    "            })\n",
    "\n",
    "    post_hoc_df = pd.DataFrame(post_hoc_tab)\n",
    "    post_hoc_df[\"p-value после коррекции\"] = post_hoc_df[\"p-value\"] * len(pairs) #коррекция Бонферрони (умножение на количество экспериментов)\n",
    "\n",
    "    post_hoc_df['Результат'] = post_hoc_df['p-value после коррекции'].apply(\n",
    "        lambda x: \"Гипотеза отклонена. Различия есть\" if x < 0.05 else \"Гипотеза подтверждена. Различий нет\")\n",
    "\n",
    "    print(post_hoc_df)"
   ]
  },
  {
   "cell_type": "code",
   "execution_count": 26,
   "id": "e26d177d",
   "metadata": {},
   "outputs": [
    {
     "name": "stdout",
     "output_type": "stream",
     "text": [
      "                  Группа 1           Группа 2        p-value  p-value после коррекции                          Результат\n",
      "0  CM_dH+_yellow_green_50%    CM_dH+_blue_50%   0.000000e+00             0.000000e+00  Гипотеза отклонена. Различия есть\n",
      "1  CM_dH+_yellow_green_50%  CM_dH+_purple_50%   0.000000e+00             0.000000e+00  Гипотеза отклонена. Различия есть\n",
      "2  CM_dH+_yellow_green_50%     CM_dH+_red_50%   0.000000e+00             0.000000e+00  Гипотеза отклонена. Различия есть\n",
      "3          CM_dH+_blue_50%  CM_dH+_purple_50%  3.100112e-109            1.860067e-108  Гипотеза отклонена. Различия есть\n",
      "4          CM_dH+_blue_50%     CM_dH+_red_50%   0.000000e+00             0.000000e+00  Гипотеза отклонена. Различия есть\n",
      "5        CM_dH+_purple_50%     CM_dH+_red_50%   0.000000e+00             0.000000e+00  Гипотеза отклонена. Различия есть\n"
     ]
    }
   ],
   "source": [
    "post_hoc_analysis(test_data)"
   ]
  },
  {
   "cell_type": "markdown",
   "id": "2ef8d7fa",
   "metadata": {},
   "source": [
    "Функция для реализации тестов"
   ]
  },
  {
   "cell_type": "code",
   "execution_count": 35,
   "id": "ecb6eace",
   "metadata": {},
   "outputs": [],
   "source": [
    "def stat_test (test, data, stat_tests_dict):\n",
    "    if test in stat_tests_dict:\n",
    "        stat_tests_dict[test](data)\n",
    "    else:\n",
    "        raise ValueError(f\"Тест не найден. Доступные тесты: {stat_test_dict.keys()}\")\n",
    "    \n",
    "   "
   ]
  },
  {
   "cell_type": "code",
   "execution_count": 37,
   "id": "fdbbf672",
   "metadata": {},
   "outputs": [
    {
     "name": "stdout",
     "output_type": "stream",
     "text": [
      "                  Группа 1           Группа 2        p-value  p-value после коррекции                          Результат\n",
      "0  CM_dH+_yellow_green_50%    CM_dH+_blue_50%   0.000000e+00             0.000000e+00  Гипотеза отклонена. Различия есть\n",
      "1  CM_dH+_yellow_green_50%  CM_dH+_purple_50%   0.000000e+00             0.000000e+00  Гипотеза отклонена. Различия есть\n",
      "2  CM_dH+_yellow_green_50%     CM_dH+_red_50%   0.000000e+00             0.000000e+00  Гипотеза отклонена. Различия есть\n",
      "3          CM_dH+_blue_50%  CM_dH+_purple_50%  3.100112e-109            1.860067e-108  Гипотеза отклонена. Различия есть\n",
      "4          CM_dH+_blue_50%     CM_dH+_red_50%   0.000000e+00             0.000000e+00  Гипотеза отклонена. Различия есть\n",
      "5        CM_dH+_purple_50%     CM_dH+_red_50%   0.000000e+00             0.000000e+00  Гипотеза отклонена. Различия есть\n"
     ]
    }
   ],
   "source": [
    " stat_tests_dict = {\n",
    "                \"post_hoc_analysis\" : post_hoc_analysis,\n",
    "                \"kruskal_wallis_test_for_4_groups\" : kruskal_wallis_test_for_4_groups,\n",
    "                \"shapiro_wilk_test\" : shapiro_wilk_test\n",
    "                 }\n",
    "stat_test(\"post_hoc_analysis\", test_data, stat_tests_dict)\n",
    "     "
   ]
  },
  {
   "cell_type": "code",
   "execution_count": null,
   "id": "0f0d7279",
   "metadata": {},
   "outputs": [],
   "source": []
  }
 ],
 "metadata": {
  "kernelspec": {
   "display_name": "Python 3 (ipykernel)",
   "language": "python",
   "name": "python3"
  },
  "language_info": {
   "codemirror_mode": {
    "name": "ipython",
    "version": 3
   },
   "file_extension": ".py",
   "mimetype": "text/x-python",
   "name": "python",
   "nbconvert_exporter": "python",
   "pygments_lexer": "ipython3",
   "version": "3.11.5"
  }
 },
 "nbformat": 4,
 "nbformat_minor": 5
}
